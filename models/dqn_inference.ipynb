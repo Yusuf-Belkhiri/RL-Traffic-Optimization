{
 "cells": [
  {
   "cell_type": "code",
   "execution_count": 1,
   "metadata": {},
   "outputs": [
    {
     "name": "stdout",
     "output_type": "stream",
     "text": [
      "Using device: cpu\n"
     ]
    }
   ],
   "source": [
    "import torch\n",
    "import torch.nn as nn\n",
    "\n",
    "import traci\n",
    "import matplotlib.pyplot as plt\n",
    "\n",
    "from helper_methods import get_nearest_vehicle_distance, update_live_plot\n",
    "\n",
    "\n",
    "DEVICE = torch.device(\"cuda\" if torch.cuda.is_available() else \"cpu\")\n",
    "print(f\"Using device: {DEVICE}\")"
   ]
  },
  {
   "cell_type": "markdown",
   "metadata": {},
   "source": [
    "# Parameters"
   ]
  },
  {
   "cell_type": "code",
   "execution_count": 2,
   "metadata": {},
   "outputs": [],
   "source": [
    "# Simulation parameters\n",
    "SUMO_BINARY = \"sumo-gui\"  # or \"sumo\"\n",
    "SUMO_CONFIG = \"../config/my_simulation.sumocfg\"\n",
    "SIMULATION_STEPS = 10000 \n",
    "\n",
    "# Define state and action space sizes\n",
    "STATE_SIZE = 6\n",
    "ACTION_SIZE = 2\n",
    "BATCH_SIZE = 32"
   ]
  },
  {
   "cell_type": "markdown",
   "metadata": {},
   "source": [
    "# Model Loading"
   ]
  },
  {
   "cell_type": "code",
   "execution_count": 3,
   "metadata": {},
   "outputs": [],
   "source": [
    "# Recreate the same model architecture\n",
    "class DQN(nn.Module):\n",
    "    def __init__(self, state_size, action_size, batch_size):\n",
    "        super(DQN, self).__init__()\n",
    "        self.fc1 = nn.Linear(state_size, batch_size)\n",
    "        self.fc2 = nn.Linear(batch_size, action_size)\n",
    "\n",
    "    def forward(self, x):\n",
    "        x = torch.relu(self.fc1(x))\n",
    "        x = self.fc2(x)\n",
    "        return x"
   ]
  },
  {
   "cell_type": "code",
   "execution_count": 4,
   "metadata": {},
   "outputs": [
    {
     "data": {
      "text/plain": [
       "DQN(\n",
       "  (fc1): Linear(in_features=6, out_features=32, bias=True)\n",
       "  (fc2): Linear(in_features=32, out_features=2, bias=True)\n",
       ")"
      ]
     },
     "execution_count": 4,
     "metadata": {},
     "output_type": "execute_result"
    }
   ],
   "source": [
    "# # Initialize the policy network\n",
    "model = DQN(STATE_SIZE, ACTION_SIZE, BATCH_SIZE)\n",
    "\n",
    "DEVICE = torch.device(\"cuda\" if torch.cuda.is_available() else \"cpu\")\n",
    "model_path = \"saved_models/dqn_model.pth\"  # Path to your saved model\n",
    "\n",
    "# Load Model\n",
    "model = torch.load(model_path, map_location=DEVICE)\n",
    "model.eval()  # Evaluation mode (for inference)"
   ]
  },
  {
   "cell_type": "markdown",
   "metadata": {},
   "source": [
    "# MDP"
   ]
  },
  {
   "cell_type": "markdown",
   "metadata": {},
   "source": [
    "#### State space"
   ]
  },
  {
   "cell_type": "code",
   "execution_count": 5,
   "metadata": {},
   "outputs": [],
   "source": [
    "def get_state():\n",
    "    \"\"\"Retrieve the current state from SUMO.\"\"\"\n",
    "\n",
    "    # Cars density\n",
    "    highway_density = traci.edge.getLastStepVehicleNumber(\"E6\")\n",
    "\n",
    "    # Cars speed\n",
    "    highway_speed = traci.edge.getLastStepMeanSpeed(\"E6\")\n",
    "    ramp_speed = traci.edge.getLastStepMeanSpeed(\"E8\")\n",
    "    \n",
    "    # Halting cars\n",
    "    highway_halts = traci.edge.getLastStepHaltingNumber(\"E6\")\n",
    "    ramp_halts = traci.edge.getLastStepHaltingNumber(\"E8\")\n",
    "\n",
    "    # Nearest Distance from highway to TL\n",
    "    nearest_distance_highway = get_nearest_vehicle_distance(\"J11\", \"E6\")\n",
    "    \n",
    "\n",
    "    state = [\n",
    "        highway_density,\n",
    "        highway_speed,\n",
    "        ramp_speed,\n",
    "        highway_halts,\n",
    "        ramp_halts,\n",
    "        nearest_distance_highway\n",
    "    ]\n",
    "    \n",
    "    return state\n"
   ]
  },
  {
   "cell_type": "markdown",
   "metadata": {},
   "source": [
    "#### Reward function"
   ]
  },
  {
   "cell_type": "code",
   "execution_count": 6,
   "metadata": {},
   "outputs": [],
   "source": [
    "def calculate_reward(state):\n",
    "    \"\"\"Calculate reward based on the current state.\"\"\"\n",
    "\n",
    "    highway_speed = state[1]\n",
    "    ramp_speed = state[2]\n",
    "    highway_halts = state[3]\n",
    "    ramp_halts = state[4]\n",
    "\n",
    "    ramp_density = traci.edge.getLastStepVehicleNumber(\"E8\")\n",
    "    nbr_stopping_vehicles = traci.simulation.getEmergencyStoppingVehiclesNumber()       # Emergency stopping cars\n",
    "    nbr_colliding_vehicles = traci.simulation.getCollidingVehiclesNumber()              # Collisions (accidents)\n",
    "\n",
    "\n",
    "    reward = - (highway_halts + ramp_halts + ramp_density + nbr_stopping_vehicles) + (highway_speed + ramp_speed) * 0.1 - nbr_colliding_vehicles * 10\n",
    "    \n",
    "    return reward"
   ]
  },
  {
   "cell_type": "markdown",
   "metadata": {},
   "source": [
    "#### Action space"
   ]
  },
  {
   "cell_type": "code",
   "execution_count": 7,
   "metadata": {},
   "outputs": [],
   "source": [
    "def choose_action(state):\n",
    "    \"\"\"Choose action using the trained policy network.\"\"\"\n",
    "    state_tensor = torch.tensor(state, dtype=torch.float32, device=DEVICE).unsqueeze(0)\n",
    "    with torch.no_grad():       # No gradient computation for inference\n",
    "        action = model(state_tensor).argmax(dim=1).item()  # Get the best action\n",
    "    return action\n",
    "\n",
    "\n",
    "def take_action(action):\n",
    "    \"\"\"Apply the selected action in SUMO.\"\"\"\n",
    "    traci.trafficlight.setPhase(\"J11\", action)"
   ]
  },
  {
   "cell_type": "markdown",
   "metadata": {},
   "source": [
    "# Inference"
   ]
  },
  {
   "cell_type": "code",
   "execution_count": 8,
   "metadata": {},
   "outputs": [],
   "source": [
    "UPDATE_PLOT_FREQ = 10\n",
    "\n",
    "def run_inference():\n",
    "    \"\"\"Run SUMO simulation with the trained DQN model.\"\"\"\n",
    "    traci.start([SUMO_BINARY, \"-c\", SUMO_CONFIG])\n",
    "    \n",
    "    # Initialize the runtime plot\n",
    "    plt.ion()\n",
    "    fig, ax = plt.subplots(figsize=(8, 6))\n",
    "    ax.set_title(\"Reward per Step\")\n",
    "    ax.set_xlabel(\"Step\")\n",
    "    ax.set_ylabel(\"Reward\")\n",
    "    line, = ax.plot([], [], label=\"Reward\", color='blue')\n",
    "    ax.legend()\n",
    "\n",
    "    # Init\n",
    "    state = get_state()\n",
    "    rewards_per_step = []\n",
    "    steps = []\n",
    "\n",
    "    # Main inference loop\n",
    "    for step in range(SIMULATION_STEPS):\n",
    "        # Get and Execute action A\n",
    "        action = choose_action(state)\n",
    "        take_action(action)\n",
    "        traci.simulationStep()      # Advance the simulation by one step\n",
    "\n",
    "        # Observe the next state S' and the immediate reward R\n",
    "        next_state = get_state()\n",
    "        reward = calculate_reward(next_state)\n",
    "\n",
    "        rewards_per_step.append(reward)\n",
    "        steps.append(step)\n",
    "\n",
    "        # Update the plot\n",
    "        if step % UPDATE_PLOT_FREQ == 0 or step == SIMULATION_STEPS - 1:\n",
    "            # update_inference_plot(fig, ax, line, rewards_per_step, steps)\n",
    "            update_live_plot(fig, ax, line, rewards_per_step)\n",
    "\n",
    "        state = next_state\n",
    "        \n",
    "    \n",
    "    traci.close()\n",
    "\n",
    "    # Finalize the plot\n",
    "    plt.ioff()\n",
    "    plt.show()\n",
    "    "
   ]
  },
  {
   "cell_type": "code",
   "execution_count": 9,
   "metadata": {},
   "outputs": [
    {
     "data": {
      "image/png": "[encoded data removed]",
      "text/plain": [
       "<Figure size 800x600 with 1 Axes>"
      ]
     },
     "metadata": {},
     "output_type": "display_data"
    }
   ],
   "source": [
    "# Run the inference\n",
    "run_inference()"
   ]
  }
 ],
 "metadata": {
  "kernelspec": {
   "display_name": "Python 3",
   "language": "python",
   "name": "python3"
  },
  "language_info": {
   "codemirror_mode": {
    "name": "ipython",
    "version": 3
   },
   "file_extension": ".py",
   "mimetype": "text/x-python",
   "name": "python",
   "nbconvert_exporter": "python",
   "pygments_lexer": "ipython3",
   "version": "3.7.9"
  }
 },
 "nbformat": 4,
 "nbformat_minor": 2
}
